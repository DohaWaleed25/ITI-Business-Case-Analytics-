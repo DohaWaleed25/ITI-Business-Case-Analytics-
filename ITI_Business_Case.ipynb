{
 "cells": [
  {
   "cell_type": "markdown",
   "id": "93016655",
   "metadata": {},
   "source": [
    "\n",
    "# ITI Students Analytics — Simulated Dataset (12,000+ records)\n",
    "\n",
    "This notebook analyzes a **synthetic** dataset representing students at the *Information Technology Institute (Egypt)* across multiple **tracks** (Data Science, Power BI Development, Data Analysis, Data Engineering, Software Testing, Web Application Development, AI Engineering, Cybersecurity, Cloud Engineering).\n",
    "\n",
    "It includes KPIs like **attendance, certificates, exams, freelancing income, projects, employment status** and more.\n",
    "\n",
    "> 📦 Data file: `iti_DATASET.csv`  \n",
    "\n"
   ]
  },
  {
   "cell_type": "markdown",
   "id": "45528528",
   "metadata": {},
   "source": [
    "\n",
    "## Data Dictionary (selected)\n",
    "\n",
    "- `student_id`: unique integer id\n",
    "- `full_name`: student full name (Egyptian)\n",
    "- `gender`: M/F\n",
    "- `age`: student age (18–40)\n",
    "- `governorate`: Egyptian governorate\n",
    "- `admission_cohort`: monthly cohort start date (2022-01 .. 2025-09)\n",
    "- `track`: learning track\n",
    "- `attendance_rate`: [0,1] fraction of sessions attended\n",
    "- `sessions_attended`, `total_sessions`: detailed attendance\n",
    "- `exams_score`: 0–100\n",
    "- `certificates_count`: count of finished certificates\n",
    "- `certificate_providers`: comma-separated providers when present\n",
    "- `freelancing_income_usd_total`: total income (log-normal, sparse)\n",
    "- `freelancing_income_usd_monthly_est`: rough monthly estimate (if freelancing)\n",
    "- `projects_delivered`: project count during/after program\n",
    "- `employment_status`: Unemployed/Intern/Freelancer/Part-time/Full-time/Further Study\n",
    "- `internship_company`: if employed\n",
    "- `mentor_name`: assigned mentor\n",
    "- `warnings_count`: disciplinary/attendance warnings\n",
    "- `dropout_flag`: 1 if dropped out\n",
    "- `graduated_flag`: 1 if graduated\n",
    "- `graduation_date`: date if graduated\n"
   ]
  },
  {
   "cell_type": "markdown",
   "id": "9c79f33e",
   "metadata": {},
   "source": [
    "\n",
    "## Business Questions\n",
    "\n",
    "1. **Placement & Readiness**\n",
    "   - Q1: Which **tracks** have the **highest placement** (Intern/Part-time/Full-time)?\n",
    "   - Q2: What's the **relationship** between **attendance** and **exam scores**?\n",
    "   - Q3: What **attendance threshold** best predicts **graduation**?\n",
    "\n",
    "2. **Freelancing & Certifications**\n",
    "   - Q4: Do **certificates** correlate with **freelancing income**?\n",
    "   - Q5: Which **certificate providers** are common among **high earners**?\n",
    "\n",
    "3. **Operations & Quality**\n",
    "   - Q6: Which cohorts/governorates show **higher dropout** or **warnings**?\n",
    "   - Q7: **Data quality** check: missing values % per column, duplicate students, outliers.\n",
    "\n",
    "4. **Program Design**\n",
    "   - Q8: Are **projects_delivered** a stronger predictor of **employment** than exams?\n",
    "   - Q9: What is the **optimal track mix** for future cohorts to maximize employment?\n",
    "\n",
    "5. **KPI Dashboards**\n",
    "   - Q10: Build quick KPIs: **Graduation Rate**, **Employment Rate**, **Avg Exam**, **Avg Attendance**, **Freelancers %**, **Avg Freelance Income** by track.\n"
   ]
  },
  {
   "cell_type": "markdown",
   "id": "e49cb8d3",
   "metadata": {},
   "source": [
    "### Data Quality & Outliers"
   ]
  },
  {
   "cell_type": "code",
   "execution_count": null,
   "id": "f154955d",
   "metadata": {},
   "outputs": [],
   "source": []
  },
  {
   "cell_type": "markdown",
   "id": "60f9f4ef",
   "metadata": {},
   "source": [
    "### Exploratory Data Analysis (EDA)"
   ]
  },
  {
   "cell_type": "code",
   "execution_count": null,
   "id": "bcc5b731",
   "metadata": {},
   "outputs": [],
   "source": []
  }
 ],
 "metadata": {
  "kernelspec": {
   "display_name": "Python 3 (ipykernel)",
   "language": "python",
   "name": "python3"
  },
  "language_info": {
   "codemirror_mode": {
    "name": "ipython",
    "version": 3
   },
   "file_extension": ".py",
   "mimetype": "text/x-python",
   "name": "python",
   "nbconvert_exporter": "python",
   "pygments_lexer": "ipython3",
   "version": "3.11.5"
  }
 },
 "nbformat": 4,
 "nbformat_minor": 5
}
